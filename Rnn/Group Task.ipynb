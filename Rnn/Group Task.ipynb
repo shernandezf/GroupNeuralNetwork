{
 "cells": [
  {
   "cell_type": "code",
   "execution_count": null,
   "metadata": {},
   "outputs": [],
   "source": [
    "#!/usr/bin/env python\n",
    "# coding: utf-8"
   ]
  },
  {
   "cell_type": "markdown",
   "metadata": {},
   "source": [
    "In[1]:"
   ]
  },
  {
   "cell_type": "code",
   "execution_count": 1,
   "metadata": {
    "tags": []
   },
   "outputs": [
    {
     "name": "stdout",
     "output_type": "stream",
     "text": [
      "Requirement already satisfied: keras in c:\\users\\peluc\\anaconda3\\envs\\tf\\lib\\site-packages (2.10.0)\n",
      "Note: you may need to restart the kernel to use updated packages.\n"
     ]
    }
   ],
   "source": [
    "pip install keras"
   ]
  },
  {
   "cell_type": "markdown",
   "metadata": {},
   "source": [
    "In[1]:"
   ]
  },
  {
   "cell_type": "code",
   "execution_count": 2,
   "metadata": {
    "tags": []
   },
   "outputs": [
    {
     "name": "stdout",
     "output_type": "stream",
     "text": [
      "Requirement already satisfied: tensorflow in c:\\users\\peluc\\anaconda3\\envs\\tf\\lib\\site-packages (2.10.0)Note: you may need to restart the kernel to use updated packages.\n",
      "\n",
      "Requirement already satisfied: absl-py>=1.0.0 in c:\\users\\peluc\\anaconda3\\envs\\tf\\lib\\site-packages (from tensorflow) (1.4.0)\n",
      "Requirement already satisfied: astunparse>=1.6.0 in c:\\users\\peluc\\anaconda3\\envs\\tf\\lib\\site-packages (from tensorflow) (1.6.3)\n",
      "Requirement already satisfied: flatbuffers>=2.0 in c:\\users\\peluc\\anaconda3\\envs\\tf\\lib\\site-packages (from tensorflow) (2.0)\n",
      "Requirement already satisfied: gast<=0.4.0,>=0.2.1 in c:\\users\\peluc\\anaconda3\\envs\\tf\\lib\\site-packages (from tensorflow) (0.4.0)\n",
      "Requirement already satisfied: google-pasta>=0.1.1 in c:\\users\\peluc\\anaconda3\\envs\\tf\\lib\\site-packages (from tensorflow) (0.2.0)\n",
      "Requirement already satisfied: h5py>=2.9.0 in c:\\users\\peluc\\anaconda3\\envs\\tf\\lib\\site-packages (from tensorflow) (3.9.0)\n",
      "Requirement already satisfied: keras-preprocessing>=1.1.1 in c:\\users\\peluc\\anaconda3\\envs\\tf\\lib\\site-packages (from tensorflow) (1.1.2)\n",
      "Collecting libclang>=13.0.0 (from tensorflow)\n",
      "  Downloading libclang-16.0.6-py2.py3-none-win_amd64.whl.metadata (5.3 kB)\n",
      "Requirement already satisfied: numpy>=1.20 in c:\\users\\peluc\\anaconda3\\envs\\tf\\lib\\site-packages (from tensorflow) (1.26.0)\n",
      "Requirement already satisfied: opt-einsum>=2.3.2 in c:\\users\\peluc\\anaconda3\\envs\\tf\\lib\\site-packages (from tensorflow) (3.3.0)\n",
      "Requirement already satisfied: packaging in c:\\users\\peluc\\anaconda3\\envs\\tf\\lib\\site-packages (from tensorflow) (23.1)\n",
      "Collecting protobuf<3.20,>=3.9.2 (from tensorflow)\n",
      "  Downloading protobuf-3.19.6-cp310-cp310-win_amd64.whl (895 kB)\n",
      "     ---------------------------------------- 0.0/895.7 kB ? eta -:--:--\n",
      "     --- ----------------------------------- 81.9/895.7 kB 2.3 MB/s eta 0:00:01\n",
      "     -------- ----------------------------- 204.8/895.7 kB 2.5 MB/s eta 0:00:01\n",
      "     ------------- ------------------------ 327.7/895.7 kB 2.5 MB/s eta 0:00:01\n",
      "     --------------------- ---------------- 501.8/895.7 kB 3.2 MB/s eta 0:00:01\n",
      "     ------------------------- ------------ 604.2/895.7 kB 2.7 MB/s eta 0:00:01\n",
      "     --------------------------------- ---- 798.7/895.7 kB 3.0 MB/s eta 0:00:01\n",
      "     -------------------------------------- 895.7/895.7 kB 2.8 MB/s eta 0:00:00\n",
      "Requirement already satisfied: setuptools in c:\\users\\peluc\\anaconda3\\envs\\tf\\lib\\site-packages (from tensorflow) (68.0.0)\n",
      "Requirement already satisfied: six>=1.12.0 in c:\\users\\peluc\\anaconda3\\envs\\tf\\lib\\site-packages (from tensorflow) (1.16.0)\n",
      "Requirement already satisfied: termcolor>=1.1.0 in c:\\users\\peluc\\anaconda3\\envs\\tf\\lib\\site-packages (from tensorflow) (2.1.0)\n",
      "Requirement already satisfied: typing-extensions>=3.6.6 in c:\\users\\peluc\\anaconda3\\envs\\tf\\lib\\site-packages (from tensorflow) (4.7.1)\n",
      "Requirement already satisfied: wrapt>=1.11.0 in c:\\users\\peluc\\anaconda3\\envs\\tf\\lib\\site-packages (from tensorflow) (1.14.1)\n",
      "Collecting tensorflow-io-gcs-filesystem>=0.23.1 (from tensorflow)\n",
      "  Downloading tensorflow_io_gcs_filesystem-0.31.0-cp310-cp310-win_amd64.whl (1.5 MB)\n",
      "     ---------------------------------------- 0.0/1.5 MB ? eta -:--:--\n",
      "     ------ --------------------------------- 0.3/1.5 MB 7.9 MB/s eta 0:00:01\n",
      "     --------------- ------------------------ 0.6/1.5 MB 7.5 MB/s eta 0:00:01\n",
      "     ---------------------- ----------------- 0.8/1.5 MB 6.6 MB/s eta 0:00:01\n",
      "     ------------------------------ --------- 1.1/1.5 MB 6.1 MB/s eta 0:00:01\n",
      "     ----------------------------------- ---- 1.3/1.5 MB 6.5 MB/s eta 0:00:01\n",
      "     ---------------------------------------- 1.5/1.5 MB 5.9 MB/s eta 0:00:00\n",
      "Requirement already satisfied: grpcio<2.0,>=1.24.3 in c:\\users\\peluc\\anaconda3\\envs\\tf\\lib\\site-packages (from tensorflow) (1.42.0)\n",
      "Requirement already satisfied: tensorboard<2.11,>=2.10 in c:\\users\\peluc\\anaconda3\\envs\\tf\\lib\\site-packages (from tensorflow) (2.10.0)\n",
      "Requirement already satisfied: tensorflow-estimator<2.11,>=2.10.0 in c:\\users\\peluc\\anaconda3\\envs\\tf\\lib\\site-packages (from tensorflow) (2.10.0)\n",
      "Requirement already satisfied: keras<2.11,>=2.10.0 in c:\\users\\peluc\\anaconda3\\envs\\tf\\lib\\site-packages (from tensorflow) (2.10.0)\n",
      "Requirement already satisfied: wheel<1.0,>=0.23.0 in c:\\users\\peluc\\anaconda3\\envs\\tf\\lib\\site-packages (from astunparse>=1.6.0->tensorflow) (0.41.2)\n",
      "Requirement already satisfied: google-auth<3,>=1.6.3 in c:\\users\\peluc\\anaconda3\\envs\\tf\\lib\\site-packages (from tensorboard<2.11,>=2.10->tensorflow) (2.22.0)\n",
      "Requirement already satisfied: google-auth-oauthlib<0.5,>=0.4.1 in c:\\users\\peluc\\anaconda3\\envs\\tf\\lib\\site-packages (from tensorboard<2.11,>=2.10->tensorflow) (0.4.4)\n",
      "Requirement already satisfied: markdown>=2.6.8 in c:\\users\\peluc\\anaconda3\\envs\\tf\\lib\\site-packages (from tensorboard<2.11,>=2.10->tensorflow) (3.4.1)\n",
      "Requirement already satisfied: requests<3,>=2.21.0 in c:\\users\\peluc\\anaconda3\\envs\\tf\\lib\\site-packages (from tensorboard<2.11,>=2.10->tensorflow) (2.31.0)\n",
      "Requirement already satisfied: tensorboard-data-server<0.7.0,>=0.6.0 in c:\\users\\peluc\\anaconda3\\envs\\tf\\lib\\site-packages (from tensorboard<2.11,>=2.10->tensorflow) (0.6.1)\n",
      "Requirement already satisfied: tensorboard-plugin-wit>=1.6.0 in c:\\users\\peluc\\anaconda3\\envs\\tf\\lib\\site-packages (from tensorboard<2.11,>=2.10->tensorflow) (1.8.1)\n",
      "Requirement already satisfied: werkzeug>=1.0.1 in c:\\users\\peluc\\anaconda3\\envs\\tf\\lib\\site-packages (from tensorboard<2.11,>=2.10->tensorflow) (2.2.3)\n",
      "Requirement already satisfied: cachetools<6.0,>=2.0.0 in c:\\users\\peluc\\anaconda3\\envs\\tf\\lib\\site-packages (from google-auth<3,>=1.6.3->tensorboard<2.11,>=2.10->tensorflow) (4.2.2)\n",
      "Requirement already satisfied: pyasn1-modules>=0.2.1 in c:\\users\\peluc\\anaconda3\\envs\\tf\\lib\\site-packages (from google-auth<3,>=1.6.3->tensorboard<2.11,>=2.10->tensorflow) (0.2.8)\n",
      "Requirement already satisfied: rsa<5,>=3.1.4 in c:\\users\\peluc\\anaconda3\\envs\\tf\\lib\\site-packages (from google-auth<3,>=1.6.3->tensorboard<2.11,>=2.10->tensorflow) (4.7.2)\n",
      "Requirement already satisfied: urllib3<2.0 in c:\\users\\peluc\\anaconda3\\envs\\tf\\lib\\site-packages (from google-auth<3,>=1.6.3->tensorboard<2.11,>=2.10->tensorflow) (1.26.16)\n",
      "Requirement already satisfied: requests-oauthlib>=0.7.0 in c:\\users\\peluc\\anaconda3\\envs\\tf\\lib\\site-packages (from google-auth-oauthlib<0.5,>=0.4.1->tensorboard<2.11,>=2.10->tensorflow) (1.3.0)\n",
      "Requirement already satisfied: charset-normalizer<4,>=2 in c:\\users\\peluc\\anaconda3\\envs\\tf\\lib\\site-packages (from requests<3,>=2.21.0->tensorboard<2.11,>=2.10->tensorflow) (2.0.4)\n",
      "Requirement already satisfied: idna<4,>=2.5 in c:\\users\\peluc\\anaconda3\\envs\\tf\\lib\\site-packages (from requests<3,>=2.21.0->tensorboard<2.11,>=2.10->tensorflow) (3.4)\n",
      "Requirement already satisfied: certifi>=2017.4.17 in c:\\users\\peluc\\anaconda3\\envs\\tf\\lib\\site-packages (from requests<3,>=2.21.0->tensorboard<2.11,>=2.10->tensorflow) (2023.7.22)\n",
      "Requirement already satisfied: MarkupSafe>=2.1.1 in c:\\users\\peluc\\anaconda3\\envs\\tf\\lib\\site-packages (from werkzeug>=1.0.1->tensorboard<2.11,>=2.10->tensorflow) (2.1.1)\n",
      "Requirement already satisfied: pyasn1<0.5.0,>=0.4.6 in c:\\users\\peluc\\anaconda3\\envs\\tf\\lib\\site-packages (from pyasn1-modules>=0.2.1->google-auth<3,>=1.6.3->tensorboard<2.11,>=2.10->tensorflow) (0.4.8)\n",
      "Requirement already satisfied: oauthlib>=3.0.0 in c:\\users\\peluc\\anaconda3\\envs\\tf\\lib\\site-packages (from requests-oauthlib>=0.7.0->google-auth-oauthlib<0.5,>=0.4.1->tensorboard<2.11,>=2.10->tensorflow) (3.2.2)\n",
      "Downloading libclang-16.0.6-py2.py3-none-win_amd64.whl (24.4 MB)\n",
      "   ---------------------------------------- 0.0/24.4 MB ? eta -:--:--\n",
      "   ---------------------------------------- 0.1/24.4 MB 7.0 MB/s eta 0:00:04\n",
      "    --------------------------------------- 0.4/24.4 MB 4.9 MB/s eta 0:00:05\n",
      "    --------------------------------------- 0.6/24.4 MB 5.8 MB/s eta 0:00:05\n",
      "   - -------------------------------------- 0.7/24.4 MB 5.2 MB/s eta 0:00:05\n",
      "   - -------------------------------------- 1.0/24.4 MB 5.5 MB/s eta 0:00:05\n",
      "   -- ------------------------------------- 1.3/24.4 MB 5.6 MB/s eta 0:00:05\n",
      "   -- ------------------------------------- 1.6/24.4 MB 5.8 MB/s eta 0:00:04\n",
      "   --- ------------------------------------ 1.9/24.4 MB 5.8 MB/s eta 0:00:04\n",
      "   --- ------------------------------------ 2.0/24.4 MB 5.5 MB/s eta 0:00:05\n",
      "   --- ------------------------------------ 2.2/24.4 MB 5.1 MB/s eta 0:00:05\n",
      "   ---- ----------------------------------- 2.5/24.4 MB 5.3 MB/s eta 0:00:05\n",
      "   ---- ----------------------------------- 2.7/24.4 MB 5.2 MB/s eta 0:00:05\n",
      "   ---- ----------------------------------- 2.9/24.4 MB 5.4 MB/s eta 0:00:04\n",
      "   ----- ---------------------------------- 3.2/24.4 MB 5.3 MB/s eta 0:00:05\n",
      "   ----- ---------------------------------- 3.5/24.4 MB 5.3 MB/s eta 0:00:04\n",
      "   ------ --------------------------------- 3.8/24.4 MB 5.3 MB/s eta 0:00:04\n",
      "   ------ --------------------------------- 4.1/24.4 MB 5.5 MB/s eta 0:00:04\n",
      "   ------- -------------------------------- 4.4/24.4 MB 5.5 MB/s eta 0:00:04\n",
      "   ------- -------------------------------- 4.6/24.4 MB 5.5 MB/s eta 0:00:04\n",
      "   -------- ------------------------------- 5.0/24.4 MB 5.6 MB/s eta 0:00:04\n",
      "   -------- ------------------------------- 5.3/24.4 MB 5.6 MB/s eta 0:00:04\n",
      "   --------- ------------------------------ 5.6/24.4 MB 5.7 MB/s eta 0:00:04\n",
      "   --------- ------------------------------ 5.9/24.4 MB 5.7 MB/s eta 0:00:04\n",
      "   ---------- ----------------------------- 6.2/24.4 MB 5.7 MB/s eta 0:00:04\n",
      "   ---------- ----------------------------- 6.4/24.4 MB 5.7 MB/s eta 0:00:04\n",
      "   ---------- ----------------------------- 6.7/24.4 MB 5.7 MB/s eta 0:00:04\n",
      "   ----------- ---------------------------- 6.9/24.4 MB 5.7 MB/s eta 0:00:04\n",
      "   ----------- ---------------------------- 7.3/24.4 MB 5.8 MB/s eta 0:00:03\n",
      "   ------------ --------------------------- 7.5/24.4 MB 5.7 MB/s eta 0:00:03\n",
      "   ------------ --------------------------- 7.8/24.4 MB 5.7 MB/s eta 0:00:03\n",
      "   ------------- -------------------------- 8.0/24.4 MB 5.7 MB/s eta 0:00:03\n",
      "   ------------- -------------------------- 8.2/24.4 MB 5.6 MB/s eta 0:00:03\n",
      "   ------------- -------------------------- 8.5/24.4 MB 5.7 MB/s eta 0:00:03\n",
      "   -------------- ------------------------- 8.8/24.4 MB 5.7 MB/s eta 0:00:03\n",
      "   -------------- ------------------------- 9.1/24.4 MB 5.7 MB/s eta 0:00:03\n",
      "   --------------- ------------------------ 9.3/24.4 MB 5.6 MB/s eta 0:00:03\n",
      "   --------------- ------------------------ 9.5/24.4 MB 5.6 MB/s eta 0:00:03\n",
      "   ---------------- ----------------------- 9.9/24.4 MB 5.7 MB/s eta 0:00:03\n",
      "   ---------------- ----------------------- 10.2/24.4 MB 5.7 MB/s eta 0:00:03\n",
      "   ---------------- ----------------------- 10.3/24.4 MB 5.6 MB/s eta 0:00:03\n",
      "   ----------------- ---------------------- 10.7/24.4 MB 5.7 MB/s eta 0:00:03\n",
      "   ------------------ --------------------- 11.0/24.4 MB 5.8 MB/s eta 0:00:03\n",
      "   ------------------ --------------------- 11.3/24.4 MB 5.8 MB/s eta 0:00:03\n",
      "   ------------------- -------------------- 11.6/24.4 MB 5.8 MB/s eta 0:00:03\n",
      "   ------------------- -------------------- 11.9/24.4 MB 5.8 MB/s eta 0:00:03\n",
      "   ------------------- -------------------- 12.2/24.4 MB 5.8 MB/s eta 0:00:03\n",
      "   -------------------- ------------------- 12.5/24.4 MB 6.0 MB/s eta 0:00:03\n",
      "   --------------------- ------------------ 12.8/24.4 MB 6.0 MB/s eta 0:00:02\n",
      "   --------------------- ------------------ 13.2/24.4 MB 6.1 MB/s eta 0:00:02\n",
      "   ---------------------- ----------------- 13.5/24.4 MB 6.1 MB/s eta 0:00:02\n",
      "   ---------------------- ----------------- 13.7/24.4 MB 6.1 MB/s eta 0:00:02\n",
      "   ----------------------- ---------------- 14.1/24.4 MB 6.2 MB/s eta 0:00:02\n",
      "   ----------------------- ---------------- 14.5/24.4 MB 6.2 MB/s eta 0:00:02\n",
      "   ------------------------ --------------- 14.8/24.4 MB 6.2 MB/s eta 0:00:02\n",
      "   ------------------------ --------------- 15.2/24.4 MB 6.2 MB/s eta 0:00:02\n",
      "   ------------------------- -------------- 15.6/24.4 MB 6.3 MB/s eta 0:00:02\n",
      "   ------------------------- -------------- 15.8/24.4 MB 6.2 MB/s eta 0:00:02\n",
      "   -------------------------- ------------- 16.1/24.4 MB 6.2 MB/s eta 0:00:02\n",
      "   -------------------------- ------------- 16.3/24.4 MB 6.2 MB/s eta 0:00:02\n",
      "   --------------------------- ------------ 16.6/24.4 MB 6.2 MB/s eta 0:00:02\n",
      "   --------------------------- ------------ 16.9/24.4 MB 6.3 MB/s eta 0:00:02\n",
      "   ---------------------------- ----------- 17.2/24.4 MB 6.3 MB/s eta 0:00:02\n",
      "   ---------------------------- ----------- 17.5/24.4 MB 6.2 MB/s eta 0:00:02\n",
      "   ----------------------------- ---------- 17.9/24.4 MB 6.3 MB/s eta 0:00:02\n",
      "   ----------------------------- ---------- 18.1/24.4 MB 6.3 MB/s eta 0:00:02\n",
      "   ------------------------------ --------- 18.4/24.4 MB 6.5 MB/s eta 0:00:01\n",
      "   ------------------------------ --------- 18.9/24.4 MB 6.5 MB/s eta 0:00:01\n",
      "   ------------------------------- -------- 19.1/24.4 MB 6.4 MB/s eta 0:00:01\n",
      "   ------------------------------- -------- 19.5/24.4 MB 6.6 MB/s eta 0:00:01\n",
      "   -------------------------------- ------- 19.9/24.4 MB 6.7 MB/s eta 0:00:01\n",
      "   --------------------------------- ------ 20.2/24.4 MB 6.6 MB/s eta 0:00:01\n",
      "   --------------------------------- ------ 20.4/24.4 MB 6.6 MB/s eta 0:00:01\n",
      "   ---------------------------------- ----- 20.8/24.4 MB 6.7 MB/s eta 0:00:01\n",
      "   ---------------------------------- ----- 21.1/24.4 MB 6.7 MB/s eta 0:00:01\n",
      "   ----------------------------------- ---- 21.5/24.4 MB 6.7 MB/s eta 0:00:01\n",
      "   ----------------------------------- ---- 21.8/24.4 MB 6.7 MB/s eta 0:00:01\n",
      "   ------------------------------------ --- 22.2/24.4 MB 6.9 MB/s eta 0:00:01\n",
      "   ------------------------------------ --- 22.6/24.4 MB 6.9 MB/s eta 0:00:01\n",
      "   ------------------------------------- -- 22.8/24.4 MB 6.8 MB/s eta 0:00:01\n",
      "   ------------------------------------- -- 23.1/24.4 MB 6.7 MB/s eta 0:00:01\n",
      "   ------------------------------------- -- 23.1/24.4 MB 6.7 MB/s eta 0:00:01\n",
      "   ------------------------------------- -- 23.1/24.4 MB 6.7 MB/s eta 0:00:01\n",
      "   ------------------------------------- -- 23.1/24.4 MB 6.7 MB/s eta 0:00:01\n",
      "   -------------------------------------- - 23.3/24.4 MB 6.1 MB/s eta 0:00:01\n",
      "   -------------------------------------- - 23.6/24.4 MB 6.1 MB/s eta 0:00:01\n",
      "   -------------------------------------- - 23.8/24.4 MB 6.1 MB/s eta 0:00:01\n",
      "   ---------------------------------------  23.9/24.4 MB 6.1 MB/s eta 0:00:01\n",
      "   ---------------------------------------  24.2/24.4 MB 6.0 MB/s eta 0:00:01\n",
      "   ---------------------------------------  24.4/24.4 MB 6.0 MB/s eta 0:00:01\n",
      "   ---------------------------------------  24.4/24.4 MB 6.0 MB/s eta 0:00:01\n",
      "   ---------------------------------------  24.4/24.4 MB 6.0 MB/s eta 0:00:01\n",
      "   ---------------------------------------- 24.4/24.4 MB 5.5 MB/s eta 0:00:00\n",
      "Installing collected packages: libclang, tensorflow-io-gcs-filesystem, protobuf\n",
      "  Attempting uninstall: protobuf\n",
      "    Found existing installation: protobuf 3.20.3\n",
      "    Uninstalling protobuf-3.20.3:\n",
      "      Successfully uninstalled protobuf-3.20.3\n",
      "Successfully installed libclang-16.0.6 protobuf-3.19.6 tensorflow-io-gcs-filesystem-0.31.0\n"
     ]
    }
   ],
   "source": [
    "pip install tensorflow"
   ]
  },
  {
   "cell_type": "code",
   "execution_count": 15,
   "metadata": {
    "tags": []
   },
   "outputs": [
    {
     "name": "stdout",
     "output_type": "stream",
     "text": [
      "Collecting scikit-learn\n",
      "  Downloading scikit_learn-1.3.2-cp310-cp310-win_amd64.whl.metadata (11 kB)\n",
      "Requirement already satisfied: numpy<2.0,>=1.17.3 in c:\\users\\peluc\\anaconda3\\envs\\tf\\lib\\site-packages (from scikit-learn) (1.26.0)\n",
      "Requirement already satisfied: scipy>=1.5.0 in c:\\users\\peluc\\anaconda3\\envs\\tf\\lib\\site-packages (from scikit-learn) (1.11.3)\n",
      "Collecting joblib>=1.1.1 (from scikit-learn)\n",
      "  Downloading joblib-1.3.2-py3-none-any.whl.metadata (5.4 kB)\n",
      "Collecting threadpoolctl>=2.0.0 (from scikit-learn)\n",
      "  Downloading threadpoolctl-3.2.0-py3-none-any.whl.metadata (10.0 kB)\n",
      "Downloading scikit_learn-1.3.2-cp310-cp310-win_amd64.whl (9.3 MB)\n",
      "   ---------------------------------------- 0.0/9.3 MB ? eta -:--:--\n",
      "   ---------------------------------------- 0.1/9.3 MB 2.6 MB/s eta 0:00:04\n",
      "   ---------------------------------------- 0.1/9.3 MB 2.2 MB/s eta 0:00:05\n",
      "   ---------------------------------------- 0.1/9.3 MB 2.2 MB/s eta 0:00:05\n",
      "   - -------------------------------------- 0.2/9.3 MB 1.3 MB/s eta 0:00:07\n",
      "   - -------------------------------------- 0.4/9.3 MB 1.7 MB/s eta 0:00:06\n",
      "   -- ------------------------------------- 0.5/9.3 MB 2.0 MB/s eta 0:00:05\n",
      "   -- ------------------------------------- 0.5/9.3 MB 2.0 MB/s eta 0:00:05\n",
      "   -- ------------------------------------- 0.5/9.3 MB 2.0 MB/s eta 0:00:05\n",
      "   -- ------------------------------------- 0.7/9.3 MB 1.7 MB/s eta 0:00:06\n",
      "   --- ------------------------------------ 0.8/9.3 MB 1.9 MB/s eta 0:00:05\n",
      "   ---- ----------------------------------- 1.1/9.3 MB 2.1 MB/s eta 0:00:04\n",
      "   ----- ---------------------------------- 1.3/9.3 MB 2.4 MB/s eta 0:00:04\n",
      "   ------ --------------------------------- 1.5/9.3 MB 2.5 MB/s eta 0:00:04\n",
      "   ------- -------------------------------- 1.7/9.3 MB 2.7 MB/s eta 0:00:03\n",
      "   -------- ------------------------------- 1.9/9.3 MB 2.8 MB/s eta 0:00:03\n",
      "   --------- ------------------------------ 2.1/9.3 MB 2.9 MB/s eta 0:00:03\n",
      "   ---------- ----------------------------- 2.3/9.3 MB 3.0 MB/s eta 0:00:03\n",
      "   ---------- ----------------------------- 2.5/9.3 MB 3.1 MB/s eta 0:00:03\n",
      "   ----------- ---------------------------- 2.8/9.3 MB 3.1 MB/s eta 0:00:03\n",
      "   ------------ --------------------------- 3.0/9.3 MB 3.2 MB/s eta 0:00:02\n",
      "   ------------- -------------------------- 3.2/9.3 MB 3.3 MB/s eta 0:00:02\n",
      "   -------------- ------------------------- 3.4/9.3 MB 3.3 MB/s eta 0:00:02\n",
      "   --------------- ------------------------ 3.6/9.3 MB 3.4 MB/s eta 0:00:02\n",
      "   ---------------- ----------------------- 3.9/9.3 MB 3.5 MB/s eta 0:00:02\n",
      "   ----------------- ---------------------- 4.1/9.3 MB 3.5 MB/s eta 0:00:02\n",
      "   ------------------ --------------------- 4.3/9.3 MB 3.6 MB/s eta 0:00:02\n",
      "   ------------------- -------------------- 4.5/9.3 MB 3.6 MB/s eta 0:00:02\n",
      "   -------------------- ------------------- 4.8/9.3 MB 3.7 MB/s eta 0:00:02\n",
      "   --------------------- ------------------ 4.9/9.3 MB 3.7 MB/s eta 0:00:02\n",
      "   ---------------------- ----------------- 5.2/9.3 MB 3.7 MB/s eta 0:00:02\n",
      "   ----------------------- ---------------- 5.4/9.3 MB 3.7 MB/s eta 0:00:02\n",
      "   ------------------------ --------------- 5.6/9.3 MB 3.8 MB/s eta 0:00:01\n",
      "   ------------------------- -------------- 5.8/9.3 MB 3.8 MB/s eta 0:00:01\n",
      "   ------------------------- -------------- 6.0/9.3 MB 3.8 MB/s eta 0:00:01\n",
      "   -------------------------- ------------- 6.2/9.3 MB 3.9 MB/s eta 0:00:01\n",
      "   --------------------------- ------------ 6.4/9.3 MB 3.8 MB/s eta 0:00:01\n",
      "   ---------------------------- ----------- 6.7/9.3 MB 3.9 MB/s eta 0:00:01\n",
      "   ----------------------------- ---------- 6.9/9.3 MB 3.9 MB/s eta 0:00:01\n",
      "   ------------------------------ --------- 7.0/9.3 MB 3.9 MB/s eta 0:00:01\n",
      "   ------------------------------ --------- 7.0/9.3 MB 3.9 MB/s eta 0:00:01\n",
      "   ------------------------------ --------- 7.0/9.3 MB 3.7 MB/s eta 0:00:01\n",
      "   ------------------------------- -------- 7.2/9.3 MB 3.7 MB/s eta 0:00:01\n",
      "   ------------------------------- -------- 7.2/9.3 MB 3.7 MB/s eta 0:00:01\n",
      "   ------------------------------- -------- 7.2/9.3 MB 3.7 MB/s eta 0:00:01\n",
      "   ------------------------------- -------- 7.3/9.3 MB 3.5 MB/s eta 0:00:01\n",
      "   -------------------------------- ------- 7.5/9.3 MB 3.5 MB/s eta 0:00:01\n",
      "   --------------------------------- ------ 7.8/9.3 MB 3.6 MB/s eta 0:00:01\n",
      "   ---------------------------------- ----- 8.0/9.3 MB 3.6 MB/s eta 0:00:01\n",
      "   ----------------------------------- ---- 8.2/9.3 MB 3.6 MB/s eta 0:00:01\n",
      "   ------------------------------------ --- 8.4/9.3 MB 3.6 MB/s eta 0:00:01\n",
      "   ------------------------------------- -- 8.6/9.3 MB 3.6 MB/s eta 0:00:01\n",
      "   -------------------------------------- - 8.9/9.3 MB 3.7 MB/s eta 0:00:01\n",
      "   -------------------------------------- - 9.0/9.3 MB 3.7 MB/s eta 0:00:01\n",
      "   ---------------------------------------  9.2/9.3 MB 3.7 MB/s eta 0:00:01\n",
      "   ---------------------------------------- 9.3/9.3 MB 3.7 MB/s eta 0:00:00\n",
      "Downloading joblib-1.3.2-py3-none-any.whl (302 kB)\n",
      "   ---------------------------------------- 0.0/302.2 kB ? eta -:--:--\n",
      "   ---------------------- ---------------- 174.1/302.2 kB 10.9 MB/s eta 0:00:01\n",
      "   ---------------------------------------- 302.2/302.2 kB 6.2 MB/s eta 0:00:00\n",
      "Downloading threadpoolctl-3.2.0-py3-none-any.whl (15 kB)\n",
      "Installing collected packages: threadpoolctl, joblib, scikit-learn\n",
      "Successfully installed joblib-1.3.2 scikit-learn-1.3.2 threadpoolctl-3.2.0\n",
      "Note: you may need to restart the kernel to use updated packages.\n"
     ]
    }
   ],
   "source": [
    "pip install scikit-learn"
   ]
  },
  {
   "cell_type": "markdown",
   "metadata": {},
   "source": [
    "In[2]:"
   ]
  },
  {
   "cell_type": "code",
   "execution_count": 1,
   "metadata": {
    "tags": []
   },
   "outputs": [],
   "source": [
    "import tensorflow as tf\n",
    "from keras.models import Sequential\n",
    "from keras.layers import LSTM, Dense, Dropout, CuDNNLSTM\n",
    "import numpy as np\n",
    "import pandas as pd\n",
    "import matplotlib.pyplot as plt\n",
    "from sklearn.preprocessing import MinMaxScaler"
   ]
  },
  {
   "cell_type": "code",
   "execution_count": 2,
   "metadata": {
    "tags": []
   },
   "outputs": [],
   "source": [
    "train_set = pd.read_csv('train.csv', dtype={'column_name':'str'}, low_memory = False)\n",
    "final_set = pd.read_csv('test.csv', dtype={'column_name':'str'}, low_memory = False)"
   ]
  },
  {
   "cell_type": "code",
   "execution_count": 3,
   "metadata": {
    "tags": []
   },
   "outputs": [
    {
     "data": {
      "text/html": [
       "<div>\n",
       "<style scoped>\n",
       "    .dataframe tbody tr th:only-of-type {\n",
       "        vertical-align: middle;\n",
       "    }\n",
       "\n",
       "    .dataframe tbody tr th {\n",
       "        vertical-align: top;\n",
       "    }\n",
       "\n",
       "    .dataframe thead th {\n",
       "        text-align: right;\n",
       "    }\n",
       "</style>\n",
       "<table border=\"1\" class=\"dataframe\">\n",
       "  <thead>\n",
       "    <tr style=\"text-align: right;\">\n",
       "      <th></th>\n",
       "      <th>Store</th>\n",
       "      <th>DayOfWeek</th>\n",
       "      <th>Date</th>\n",
       "      <th>Sales</th>\n",
       "      <th>Customers</th>\n",
       "      <th>Open</th>\n",
       "      <th>Promo</th>\n",
       "      <th>StateHoliday</th>\n",
       "      <th>SchoolHoliday</th>\n",
       "    </tr>\n",
       "  </thead>\n",
       "  <tbody>\n",
       "    <tr>\n",
       "      <th>0</th>\n",
       "      <td>1</td>\n",
       "      <td>5</td>\n",
       "      <td>2015-07-31</td>\n",
       "      <td>5263</td>\n",
       "      <td>555</td>\n",
       "      <td>1</td>\n",
       "      <td>1</td>\n",
       "      <td>0</td>\n",
       "      <td>1</td>\n",
       "    </tr>\n",
       "    <tr>\n",
       "      <th>1</th>\n",
       "      <td>2</td>\n",
       "      <td>5</td>\n",
       "      <td>2015-07-31</td>\n",
       "      <td>6064</td>\n",
       "      <td>625</td>\n",
       "      <td>1</td>\n",
       "      <td>1</td>\n",
       "      <td>0</td>\n",
       "      <td>1</td>\n",
       "    </tr>\n",
       "    <tr>\n",
       "      <th>2</th>\n",
       "      <td>3</td>\n",
       "      <td>5</td>\n",
       "      <td>2015-07-31</td>\n",
       "      <td>8314</td>\n",
       "      <td>821</td>\n",
       "      <td>1</td>\n",
       "      <td>1</td>\n",
       "      <td>0</td>\n",
       "      <td>1</td>\n",
       "    </tr>\n",
       "    <tr>\n",
       "      <th>3</th>\n",
       "      <td>4</td>\n",
       "      <td>5</td>\n",
       "      <td>2015-07-31</td>\n",
       "      <td>13995</td>\n",
       "      <td>1498</td>\n",
       "      <td>1</td>\n",
       "      <td>1</td>\n",
       "      <td>0</td>\n",
       "      <td>1</td>\n",
       "    </tr>\n",
       "    <tr>\n",
       "      <th>4</th>\n",
       "      <td>5</td>\n",
       "      <td>5</td>\n",
       "      <td>2015-07-31</td>\n",
       "      <td>4822</td>\n",
       "      <td>559</td>\n",
       "      <td>1</td>\n",
       "      <td>1</td>\n",
       "      <td>0</td>\n",
       "      <td>1</td>\n",
       "    </tr>\n",
       "    <tr>\n",
       "      <th>...</th>\n",
       "      <td>...</td>\n",
       "      <td>...</td>\n",
       "      <td>...</td>\n",
       "      <td>...</td>\n",
       "      <td>...</td>\n",
       "      <td>...</td>\n",
       "      <td>...</td>\n",
       "      <td>...</td>\n",
       "      <td>...</td>\n",
       "    </tr>\n",
       "    <tr>\n",
       "      <th>1017204</th>\n",
       "      <td>1111</td>\n",
       "      <td>2</td>\n",
       "      <td>2013-01-01</td>\n",
       "      <td>0</td>\n",
       "      <td>0</td>\n",
       "      <td>0</td>\n",
       "      <td>0</td>\n",
       "      <td>a</td>\n",
       "      <td>1</td>\n",
       "    </tr>\n",
       "    <tr>\n",
       "      <th>1017205</th>\n",
       "      <td>1112</td>\n",
       "      <td>2</td>\n",
       "      <td>2013-01-01</td>\n",
       "      <td>0</td>\n",
       "      <td>0</td>\n",
       "      <td>0</td>\n",
       "      <td>0</td>\n",
       "      <td>a</td>\n",
       "      <td>1</td>\n",
       "    </tr>\n",
       "    <tr>\n",
       "      <th>1017206</th>\n",
       "      <td>1113</td>\n",
       "      <td>2</td>\n",
       "      <td>2013-01-01</td>\n",
       "      <td>0</td>\n",
       "      <td>0</td>\n",
       "      <td>0</td>\n",
       "      <td>0</td>\n",
       "      <td>a</td>\n",
       "      <td>1</td>\n",
       "    </tr>\n",
       "    <tr>\n",
       "      <th>1017207</th>\n",
       "      <td>1114</td>\n",
       "      <td>2</td>\n",
       "      <td>2013-01-01</td>\n",
       "      <td>0</td>\n",
       "      <td>0</td>\n",
       "      <td>0</td>\n",
       "      <td>0</td>\n",
       "      <td>a</td>\n",
       "      <td>1</td>\n",
       "    </tr>\n",
       "    <tr>\n",
       "      <th>1017208</th>\n",
       "      <td>1115</td>\n",
       "      <td>2</td>\n",
       "      <td>2013-01-01</td>\n",
       "      <td>0</td>\n",
       "      <td>0</td>\n",
       "      <td>0</td>\n",
       "      <td>0</td>\n",
       "      <td>a</td>\n",
       "      <td>1</td>\n",
       "    </tr>\n",
       "  </tbody>\n",
       "</table>\n",
       "<p>1017209 rows × 9 columns</p>\n",
       "</div>"
      ],
      "text/plain": [
       "         Store  DayOfWeek        Date  Sales  Customers  Open  Promo  \\\n",
       "0            1          5  2015-07-31   5263        555     1      1   \n",
       "1            2          5  2015-07-31   6064        625     1      1   \n",
       "2            3          5  2015-07-31   8314        821     1      1   \n",
       "3            4          5  2015-07-31  13995       1498     1      1   \n",
       "4            5          5  2015-07-31   4822        559     1      1   \n",
       "...        ...        ...         ...    ...        ...   ...    ...   \n",
       "1017204   1111          2  2013-01-01      0          0     0      0   \n",
       "1017205   1112          2  2013-01-01      0          0     0      0   \n",
       "1017206   1113          2  2013-01-01      0          0     0      0   \n",
       "1017207   1114          2  2013-01-01      0          0     0      0   \n",
       "1017208   1115          2  2013-01-01      0          0     0      0   \n",
       "\n",
       "        StateHoliday  SchoolHoliday  \n",
       "0                  0              1  \n",
       "1                  0              1  \n",
       "2                  0              1  \n",
       "3                  0              1  \n",
       "4                  0              1  \n",
       "...              ...            ...  \n",
       "1017204            a              1  \n",
       "1017205            a              1  \n",
       "1017206            a              1  \n",
       "1017207            a              1  \n",
       "1017208            a              1  \n",
       "\n",
       "[1017209 rows x 9 columns]"
      ]
     },
     "execution_count": 3,
     "metadata": {},
     "output_type": "execute_result"
    }
   ],
   "source": [
    "train_set"
   ]
  },
  {
   "cell_type": "code",
   "execution_count": 4,
   "metadata": {
    "tags": []
   },
   "outputs": [
    {
     "data": {
      "text/html": [
       "<div>\n",
       "<style scoped>\n",
       "    .dataframe tbody tr th:only-of-type {\n",
       "        vertical-align: middle;\n",
       "    }\n",
       "\n",
       "    .dataframe tbody tr th {\n",
       "        vertical-align: top;\n",
       "    }\n",
       "\n",
       "    .dataframe thead th {\n",
       "        text-align: right;\n",
       "    }\n",
       "</style>\n",
       "<table border=\"1\" class=\"dataframe\">\n",
       "  <thead>\n",
       "    <tr style=\"text-align: right;\">\n",
       "      <th></th>\n",
       "      <th>Id</th>\n",
       "      <th>Store</th>\n",
       "      <th>DayOfWeek</th>\n",
       "      <th>Date</th>\n",
       "      <th>Open</th>\n",
       "      <th>Promo</th>\n",
       "      <th>StateHoliday</th>\n",
       "      <th>SchoolHoliday</th>\n",
       "    </tr>\n",
       "  </thead>\n",
       "  <tbody>\n",
       "    <tr>\n",
       "      <th>0</th>\n",
       "      <td>1</td>\n",
       "      <td>1</td>\n",
       "      <td>4</td>\n",
       "      <td>2015-09-17</td>\n",
       "      <td>1.0</td>\n",
       "      <td>1</td>\n",
       "      <td>0</td>\n",
       "      <td>0</td>\n",
       "    </tr>\n",
       "    <tr>\n",
       "      <th>1</th>\n",
       "      <td>2</td>\n",
       "      <td>3</td>\n",
       "      <td>4</td>\n",
       "      <td>2015-09-17</td>\n",
       "      <td>1.0</td>\n",
       "      <td>1</td>\n",
       "      <td>0</td>\n",
       "      <td>0</td>\n",
       "    </tr>\n",
       "    <tr>\n",
       "      <th>2</th>\n",
       "      <td>3</td>\n",
       "      <td>7</td>\n",
       "      <td>4</td>\n",
       "      <td>2015-09-17</td>\n",
       "      <td>1.0</td>\n",
       "      <td>1</td>\n",
       "      <td>0</td>\n",
       "      <td>0</td>\n",
       "    </tr>\n",
       "    <tr>\n",
       "      <th>3</th>\n",
       "      <td>4</td>\n",
       "      <td>8</td>\n",
       "      <td>4</td>\n",
       "      <td>2015-09-17</td>\n",
       "      <td>1.0</td>\n",
       "      <td>1</td>\n",
       "      <td>0</td>\n",
       "      <td>0</td>\n",
       "    </tr>\n",
       "    <tr>\n",
       "      <th>4</th>\n",
       "      <td>5</td>\n",
       "      <td>9</td>\n",
       "      <td>4</td>\n",
       "      <td>2015-09-17</td>\n",
       "      <td>1.0</td>\n",
       "      <td>1</td>\n",
       "      <td>0</td>\n",
       "      <td>0</td>\n",
       "    </tr>\n",
       "    <tr>\n",
       "      <th>...</th>\n",
       "      <td>...</td>\n",
       "      <td>...</td>\n",
       "      <td>...</td>\n",
       "      <td>...</td>\n",
       "      <td>...</td>\n",
       "      <td>...</td>\n",
       "      <td>...</td>\n",
       "      <td>...</td>\n",
       "    </tr>\n",
       "    <tr>\n",
       "      <th>41083</th>\n",
       "      <td>41084</td>\n",
       "      <td>1111</td>\n",
       "      <td>6</td>\n",
       "      <td>2015-08-01</td>\n",
       "      <td>1.0</td>\n",
       "      <td>0</td>\n",
       "      <td>0</td>\n",
       "      <td>0</td>\n",
       "    </tr>\n",
       "    <tr>\n",
       "      <th>41084</th>\n",
       "      <td>41085</td>\n",
       "      <td>1112</td>\n",
       "      <td>6</td>\n",
       "      <td>2015-08-01</td>\n",
       "      <td>1.0</td>\n",
       "      <td>0</td>\n",
       "      <td>0</td>\n",
       "      <td>0</td>\n",
       "    </tr>\n",
       "    <tr>\n",
       "      <th>41085</th>\n",
       "      <td>41086</td>\n",
       "      <td>1113</td>\n",
       "      <td>6</td>\n",
       "      <td>2015-08-01</td>\n",
       "      <td>1.0</td>\n",
       "      <td>0</td>\n",
       "      <td>0</td>\n",
       "      <td>0</td>\n",
       "    </tr>\n",
       "    <tr>\n",
       "      <th>41086</th>\n",
       "      <td>41087</td>\n",
       "      <td>1114</td>\n",
       "      <td>6</td>\n",
       "      <td>2015-08-01</td>\n",
       "      <td>1.0</td>\n",
       "      <td>0</td>\n",
       "      <td>0</td>\n",
       "      <td>0</td>\n",
       "    </tr>\n",
       "    <tr>\n",
       "      <th>41087</th>\n",
       "      <td>41088</td>\n",
       "      <td>1115</td>\n",
       "      <td>6</td>\n",
       "      <td>2015-08-01</td>\n",
       "      <td>1.0</td>\n",
       "      <td>0</td>\n",
       "      <td>0</td>\n",
       "      <td>1</td>\n",
       "    </tr>\n",
       "  </tbody>\n",
       "</table>\n",
       "<p>41088 rows × 8 columns</p>\n",
       "</div>"
      ],
      "text/plain": [
       "          Id  Store  DayOfWeek        Date  Open  Promo StateHoliday  \\\n",
       "0          1      1          4  2015-09-17   1.0      1            0   \n",
       "1          2      3          4  2015-09-17   1.0      1            0   \n",
       "2          3      7          4  2015-09-17   1.0      1            0   \n",
       "3          4      8          4  2015-09-17   1.0      1            0   \n",
       "4          5      9          4  2015-09-17   1.0      1            0   \n",
       "...      ...    ...        ...         ...   ...    ...          ...   \n",
       "41083  41084   1111          6  2015-08-01   1.0      0            0   \n",
       "41084  41085   1112          6  2015-08-01   1.0      0            0   \n",
       "41085  41086   1113          6  2015-08-01   1.0      0            0   \n",
       "41086  41087   1114          6  2015-08-01   1.0      0            0   \n",
       "41087  41088   1115          6  2015-08-01   1.0      0            0   \n",
       "\n",
       "       SchoolHoliday  \n",
       "0                  0  \n",
       "1                  0  \n",
       "2                  0  \n",
       "3                  0  \n",
       "4                  0  \n",
       "...              ...  \n",
       "41083              0  \n",
       "41084              0  \n",
       "41085              0  \n",
       "41086              0  \n",
       "41087              1  \n",
       "\n",
       "[41088 rows x 8 columns]"
      ]
     },
     "execution_count": 4,
     "metadata": {},
     "output_type": "execute_result"
    }
   ],
   "source": [
    "final_set"
   ]
  },
  {
   "cell_type": "code",
   "execution_count": 5,
   "metadata": {
    "tags": []
   },
   "outputs": [],
   "source": [
    "sc = MinMaxScaler()\n",
    "train_set_scalar = sc.fit_transform(train_set.iloc[:, 3:4].values)"
   ]
  },
  {
   "cell_type": "code",
   "execution_count": 6,
   "metadata": {
    "tags": []
   },
   "outputs": [
    {
     "name": "stdout",
     "output_type": "stream",
     "text": [
      "[[0.12666362]\n",
      " [0.14594113]\n",
      " [0.20009145]\n",
      " ...\n",
      " [0.        ]\n",
      " [0.        ]\n",
      " [0.        ]]\n"
     ]
    }
   ],
   "source": [
    "print(train_set_scalar)"
   ]
  },
  {
   "cell_type": "code",
   "execution_count": 7,
   "metadata": {
    "tags": []
   },
   "outputs": [],
   "source": [
    "train_y_list=[]\n",
    "for i in train_set_scalar:\n",
    "    train_y_list.append(i[0])\n",
    "   "
   ]
  },
  {
   "cell_type": "code",
   "execution_count": 8,
   "metadata": {
    "tags": []
   },
   "outputs": [],
   "source": [
    "total_y_set=pd.DataFrame(train_y_list,columns=['Norm_sales'])\n",
    "total_y_set=total_y_set.astype(np.float32)"
   ]
  },
  {
   "cell_type": "code",
   "execution_count": 9,
   "metadata": {
    "tags": []
   },
   "outputs": [
    {
     "data": {
      "text/html": [
       "<div>\n",
       "<style scoped>\n",
       "    .dataframe tbody tr th:only-of-type {\n",
       "        vertical-align: middle;\n",
       "    }\n",
       "\n",
       "    .dataframe tbody tr th {\n",
       "        vertical-align: top;\n",
       "    }\n",
       "\n",
       "    .dataframe thead th {\n",
       "        text-align: right;\n",
       "    }\n",
       "</style>\n",
       "<table border=\"1\" class=\"dataframe\">\n",
       "  <thead>\n",
       "    <tr style=\"text-align: right;\">\n",
       "      <th></th>\n",
       "      <th>Norm_sales</th>\n",
       "    </tr>\n",
       "  </thead>\n",
       "  <tbody>\n",
       "    <tr>\n",
       "      <th>0</th>\n",
       "      <td>0.126664</td>\n",
       "    </tr>\n",
       "    <tr>\n",
       "      <th>1</th>\n",
       "      <td>0.145941</td>\n",
       "    </tr>\n",
       "    <tr>\n",
       "      <th>2</th>\n",
       "      <td>0.200091</td>\n",
       "    </tr>\n",
       "    <tr>\n",
       "      <th>3</th>\n",
       "      <td>0.336815</td>\n",
       "    </tr>\n",
       "    <tr>\n",
       "      <th>4</th>\n",
       "      <td>0.116050</td>\n",
       "    </tr>\n",
       "    <tr>\n",
       "      <th>...</th>\n",
       "      <td>...</td>\n",
       "    </tr>\n",
       "    <tr>\n",
       "      <th>1017204</th>\n",
       "      <td>0.000000</td>\n",
       "    </tr>\n",
       "    <tr>\n",
       "      <th>1017205</th>\n",
       "      <td>0.000000</td>\n",
       "    </tr>\n",
       "    <tr>\n",
       "      <th>1017206</th>\n",
       "      <td>0.000000</td>\n",
       "    </tr>\n",
       "    <tr>\n",
       "      <th>1017207</th>\n",
       "      <td>0.000000</td>\n",
       "    </tr>\n",
       "    <tr>\n",
       "      <th>1017208</th>\n",
       "      <td>0.000000</td>\n",
       "    </tr>\n",
       "  </tbody>\n",
       "</table>\n",
       "<p>1017209 rows × 1 columns</p>\n",
       "</div>"
      ],
      "text/plain": [
       "         Norm_sales\n",
       "0          0.126664\n",
       "1          0.145941\n",
       "2          0.200091\n",
       "3          0.336815\n",
       "4          0.116050\n",
       "...             ...\n",
       "1017204    0.000000\n",
       "1017205    0.000000\n",
       "1017206    0.000000\n",
       "1017207    0.000000\n",
       "1017208    0.000000\n",
       "\n",
       "[1017209 rows x 1 columns]"
      ]
     },
     "execution_count": 9,
     "metadata": {},
     "output_type": "execute_result"
    }
   ],
   "source": [
    "total_y_set"
   ]
  },
  {
   "cell_type": "code",
   "execution_count": 10,
   "metadata": {
    "tags": []
   },
   "outputs": [],
   "source": [
    "training_limit=int(len(total_y_set)*0.8)"
   ]
  },
  {
   "cell_type": "code",
   "execution_count": 11,
   "metadata": {
    "tags": []
   },
   "outputs": [],
   "source": [
    "train_y_set=total_y_set[:training_limit]\n",
    "test_y_set=total_y_set[training_limit:]"
   ]
  },
  {
   "cell_type": "code",
   "execution_count": 12,
   "metadata": {
    "tags": []
   },
   "outputs": [],
   "source": [
    "total_x_set = train_set.drop([\"Sales\",\"Date\",\"Customers\",\"StateHoliday\"], axis=1)\n",
    "total_x_set=total_x_set.astype(float)\n",
    "final_set= final_set.drop([\"Id\",\"Date\",\"StateHoliday\"], axis=1)\n",
    "final_set=final_set.astype(float)"
   ]
  },
  {
   "cell_type": "code",
   "execution_count": 13,
   "metadata": {
    "tags": []
   },
   "outputs": [],
   "source": [
    "train_x_set=total_x_set[:training_limit]\n",
    "test_x_set=total_x_set[training_limit:]"
   ]
  },
  {
   "cell_type": "code",
   "execution_count": 14,
   "metadata": {
    "tags": []
   },
   "outputs": [
    {
     "data": {
      "text/html": [
       "<div>\n",
       "<style scoped>\n",
       "    .dataframe tbody tr th:only-of-type {\n",
       "        vertical-align: middle;\n",
       "    }\n",
       "\n",
       "    .dataframe tbody tr th {\n",
       "        vertical-align: top;\n",
       "    }\n",
       "\n",
       "    .dataframe thead th {\n",
       "        text-align: right;\n",
       "    }\n",
       "</style>\n",
       "<table border=\"1\" class=\"dataframe\">\n",
       "  <thead>\n",
       "    <tr style=\"text-align: right;\">\n",
       "      <th></th>\n",
       "      <th>Store</th>\n",
       "      <th>DayOfWeek</th>\n",
       "      <th>Open</th>\n",
       "      <th>Promo</th>\n",
       "      <th>SchoolHoliday</th>\n",
       "    </tr>\n",
       "  </thead>\n",
       "  <tbody>\n",
       "    <tr>\n",
       "      <th>0</th>\n",
       "      <td>1.0</td>\n",
       "      <td>5.0</td>\n",
       "      <td>1.0</td>\n",
       "      <td>1.0</td>\n",
       "      <td>1.0</td>\n",
       "    </tr>\n",
       "    <tr>\n",
       "      <th>1</th>\n",
       "      <td>2.0</td>\n",
       "      <td>5.0</td>\n",
       "      <td>1.0</td>\n",
       "      <td>1.0</td>\n",
       "      <td>1.0</td>\n",
       "    </tr>\n",
       "    <tr>\n",
       "      <th>2</th>\n",
       "      <td>3.0</td>\n",
       "      <td>5.0</td>\n",
       "      <td>1.0</td>\n",
       "      <td>1.0</td>\n",
       "      <td>1.0</td>\n",
       "    </tr>\n",
       "    <tr>\n",
       "      <th>3</th>\n",
       "      <td>4.0</td>\n",
       "      <td>5.0</td>\n",
       "      <td>1.0</td>\n",
       "      <td>1.0</td>\n",
       "      <td>1.0</td>\n",
       "    </tr>\n",
       "    <tr>\n",
       "      <th>4</th>\n",
       "      <td>5.0</td>\n",
       "      <td>5.0</td>\n",
       "      <td>1.0</td>\n",
       "      <td>1.0</td>\n",
       "      <td>1.0</td>\n",
       "    </tr>\n",
       "    <tr>\n",
       "      <th>...</th>\n",
       "      <td>...</td>\n",
       "      <td>...</td>\n",
       "      <td>...</td>\n",
       "      <td>...</td>\n",
       "      <td>...</td>\n",
       "    </tr>\n",
       "    <tr>\n",
       "      <th>813762</th>\n",
       "      <td>598.0</td>\n",
       "      <td>2.0</td>\n",
       "      <td>1.0</td>\n",
       "      <td>1.0</td>\n",
       "      <td>0.0</td>\n",
       "    </tr>\n",
       "    <tr>\n",
       "      <th>813763</th>\n",
       "      <td>599.0</td>\n",
       "      <td>2.0</td>\n",
       "      <td>1.0</td>\n",
       "      <td>1.0</td>\n",
       "      <td>1.0</td>\n",
       "    </tr>\n",
       "    <tr>\n",
       "      <th>813764</th>\n",
       "      <td>600.0</td>\n",
       "      <td>2.0</td>\n",
       "      <td>1.0</td>\n",
       "      <td>1.0</td>\n",
       "      <td>1.0</td>\n",
       "    </tr>\n",
       "    <tr>\n",
       "      <th>813765</th>\n",
       "      <td>601.0</td>\n",
       "      <td>2.0</td>\n",
       "      <td>1.0</td>\n",
       "      <td>1.0</td>\n",
       "      <td>0.0</td>\n",
       "    </tr>\n",
       "    <tr>\n",
       "      <th>813766</th>\n",
       "      <td>602.0</td>\n",
       "      <td>2.0</td>\n",
       "      <td>1.0</td>\n",
       "      <td>1.0</td>\n",
       "      <td>0.0</td>\n",
       "    </tr>\n",
       "  </tbody>\n",
       "</table>\n",
       "<p>813767 rows × 5 columns</p>\n",
       "</div>"
      ],
      "text/plain": [
       "        Store  DayOfWeek  Open  Promo  SchoolHoliday\n",
       "0         1.0        5.0   1.0    1.0            1.0\n",
       "1         2.0        5.0   1.0    1.0            1.0\n",
       "2         3.0        5.0   1.0    1.0            1.0\n",
       "3         4.0        5.0   1.0    1.0            1.0\n",
       "4         5.0        5.0   1.0    1.0            1.0\n",
       "...       ...        ...   ...    ...            ...\n",
       "813762  598.0        2.0   1.0    1.0            0.0\n",
       "813763  599.0        2.0   1.0    1.0            1.0\n",
       "813764  600.0        2.0   1.0    1.0            1.0\n",
       "813765  601.0        2.0   1.0    1.0            0.0\n",
       "813766  602.0        2.0   1.0    1.0            0.0\n",
       "\n",
       "[813767 rows x 5 columns]"
      ]
     },
     "execution_count": 14,
     "metadata": {},
     "output_type": "execute_result"
    }
   ],
   "source": [
    "train_x_set"
   ]
  },
  {
   "cell_type": "code",
   "execution_count": 15,
   "metadata": {
    "tags": []
   },
   "outputs": [
    {
     "data": {
      "text/html": [
       "<div>\n",
       "<style scoped>\n",
       "    .dataframe tbody tr th:only-of-type {\n",
       "        vertical-align: middle;\n",
       "    }\n",
       "\n",
       "    .dataframe tbody tr th {\n",
       "        vertical-align: top;\n",
       "    }\n",
       "\n",
       "    .dataframe thead th {\n",
       "        text-align: right;\n",
       "    }\n",
       "</style>\n",
       "<table border=\"1\" class=\"dataframe\">\n",
       "  <thead>\n",
       "    <tr style=\"text-align: right;\">\n",
       "      <th></th>\n",
       "      <th>Store</th>\n",
       "      <th>DayOfWeek</th>\n",
       "      <th>Open</th>\n",
       "      <th>Promo</th>\n",
       "      <th>SchoolHoliday</th>\n",
       "    </tr>\n",
       "  </thead>\n",
       "  <tbody>\n",
       "    <tr>\n",
       "      <th>0</th>\n",
       "      <td>1.0</td>\n",
       "      <td>4.0</td>\n",
       "      <td>1.0</td>\n",
       "      <td>1.0</td>\n",
       "      <td>0.0</td>\n",
       "    </tr>\n",
       "    <tr>\n",
       "      <th>1</th>\n",
       "      <td>3.0</td>\n",
       "      <td>4.0</td>\n",
       "      <td>1.0</td>\n",
       "      <td>1.0</td>\n",
       "      <td>0.0</td>\n",
       "    </tr>\n",
       "    <tr>\n",
       "      <th>2</th>\n",
       "      <td>7.0</td>\n",
       "      <td>4.0</td>\n",
       "      <td>1.0</td>\n",
       "      <td>1.0</td>\n",
       "      <td>0.0</td>\n",
       "    </tr>\n",
       "    <tr>\n",
       "      <th>3</th>\n",
       "      <td>8.0</td>\n",
       "      <td>4.0</td>\n",
       "      <td>1.0</td>\n",
       "      <td>1.0</td>\n",
       "      <td>0.0</td>\n",
       "    </tr>\n",
       "    <tr>\n",
       "      <th>4</th>\n",
       "      <td>9.0</td>\n",
       "      <td>4.0</td>\n",
       "      <td>1.0</td>\n",
       "      <td>1.0</td>\n",
       "      <td>0.0</td>\n",
       "    </tr>\n",
       "    <tr>\n",
       "      <th>...</th>\n",
       "      <td>...</td>\n",
       "      <td>...</td>\n",
       "      <td>...</td>\n",
       "      <td>...</td>\n",
       "      <td>...</td>\n",
       "    </tr>\n",
       "    <tr>\n",
       "      <th>41083</th>\n",
       "      <td>1111.0</td>\n",
       "      <td>6.0</td>\n",
       "      <td>1.0</td>\n",
       "      <td>0.0</td>\n",
       "      <td>0.0</td>\n",
       "    </tr>\n",
       "    <tr>\n",
       "      <th>41084</th>\n",
       "      <td>1112.0</td>\n",
       "      <td>6.0</td>\n",
       "      <td>1.0</td>\n",
       "      <td>0.0</td>\n",
       "      <td>0.0</td>\n",
       "    </tr>\n",
       "    <tr>\n",
       "      <th>41085</th>\n",
       "      <td>1113.0</td>\n",
       "      <td>6.0</td>\n",
       "      <td>1.0</td>\n",
       "      <td>0.0</td>\n",
       "      <td>0.0</td>\n",
       "    </tr>\n",
       "    <tr>\n",
       "      <th>41086</th>\n",
       "      <td>1114.0</td>\n",
       "      <td>6.0</td>\n",
       "      <td>1.0</td>\n",
       "      <td>0.0</td>\n",
       "      <td>0.0</td>\n",
       "    </tr>\n",
       "    <tr>\n",
       "      <th>41087</th>\n",
       "      <td>1115.0</td>\n",
       "      <td>6.0</td>\n",
       "      <td>1.0</td>\n",
       "      <td>0.0</td>\n",
       "      <td>1.0</td>\n",
       "    </tr>\n",
       "  </tbody>\n",
       "</table>\n",
       "<p>41088 rows × 5 columns</p>\n",
       "</div>"
      ],
      "text/plain": [
       "        Store  DayOfWeek  Open  Promo  SchoolHoliday\n",
       "0         1.0        4.0   1.0    1.0            0.0\n",
       "1         3.0        4.0   1.0    1.0            0.0\n",
       "2         7.0        4.0   1.0    1.0            0.0\n",
       "3         8.0        4.0   1.0    1.0            0.0\n",
       "4         9.0        4.0   1.0    1.0            0.0\n",
       "...       ...        ...   ...    ...            ...\n",
       "41083  1111.0        6.0   1.0    0.0            0.0\n",
       "41084  1112.0        6.0   1.0    0.0            0.0\n",
       "41085  1113.0        6.0   1.0    0.0            0.0\n",
       "41086  1114.0        6.0   1.0    0.0            0.0\n",
       "41087  1115.0        6.0   1.0    0.0            1.0\n",
       "\n",
       "[41088 rows x 5 columns]"
      ]
     },
     "execution_count": 15,
     "metadata": {},
     "output_type": "execute_result"
    }
   ],
   "source": [
    "final_set"
   ]
  },
  {
   "cell_type": "code",
   "execution_count": 16,
   "metadata": {
    "tags": []
   },
   "outputs": [],
   "source": [
    "train_x_set_reshaped = np.reshape(train_x_set, (train_x_set.shape[0], 1, train_x_set.shape[1]))\n",
    "test_x_set_reshaped = np.reshape(test_x_set, (test_x_set.shape[0], 1, test_x_set.shape[1]))\n",
    "final_set=np.reshape(final_set, (final_set.shape[0], 1, final_set.shape[1]))"
   ]
  },
  {
   "cell_type": "code",
   "execution_count": 17,
   "metadata": {
    "tags": []
   },
   "outputs": [
    {
     "data": {
      "text/plain": [
       "5"
      ]
     },
     "execution_count": 17,
     "metadata": {},
     "output_type": "execute_result"
    }
   ],
   "source": [
    "train_x_set_reshaped.shape[2]"
   ]
  },
  {
   "cell_type": "code",
   "execution_count": 50,
   "metadata": {
    "tags": []
   },
   "outputs": [],
   "source": [
    "reg = Sequential()"
   ]
  },
  {
   "cell_type": "code",
   "execution_count": 51,
   "metadata": {
    "tags": []
   },
   "outputs": [],
   "source": [
    "reg.add(LSTM(128, input_shape=(1, 5), activation=\"relu\",return_sequences=True))\n",
    "reg.add(Dropout(0.2))\n"
   ]
  },
  {
   "cell_type": "code",
   "execution_count": 52,
   "metadata": {
    "tags": []
   },
   "outputs": [],
   "source": [
    "reg.add(LSTM(128, activation=\"relu\", return_sequences=True))\n",
    "reg.add(Dropout(0.2))\n",
    "reg.add(LSTM(64, activation=\"relu\"))\n",
    "reg.add(Dropout(0.2))\n",
    "reg.add(Dense(30, activation='relu'))\n",
    "reg.add(Dropout(0.2))\n",
    "reg.add(Dense(10, activation='linear'))"
   ]
  },
  {
   "cell_type": "code",
   "execution_count": 53,
   "metadata": {
    "tags": []
   },
   "outputs": [
    {
     "name": "stderr",
     "output_type": "stream",
     "text": [
      "C:\\Users\\peluc\\anaconda3\\envs\\tf\\lib\\site-packages\\keras\\optimizers\\optimizer_v2\\adam.py:114: UserWarning: The `lr` argument is deprecated, use `learning_rate` instead.\n",
      "  super().__init__(name, **kwargs)\n"
     ]
    }
   ],
   "source": [
    "opt=tf.keras.optimizers.Adam(lr=1e-3,decay=1e-5)"
   ]
  },
  {
   "cell_type": "code",
   "execution_count": 54,
   "metadata": {
    "tags": []
   },
   "outputs": [],
   "source": [
    "reg.compile(optimizer=opt, loss='mean_squared_error',\n",
    "            metrics=[\"accuracy\"])"
   ]
  },
  {
   "cell_type": "code",
   "execution_count": 55,
   "metadata": {
    "tags": []
   },
   "outputs": [
    {
     "name": "stdout",
     "output_type": "stream",
     "text": [
      "25431/25431 [==============================] - 219s 8ms/step - loss: 0.0051 - accuracy: 0.0070 - val_loss: 0.0038 - val_accuracy: 3.9323e-05\n"
     ]
    },
    {
     "data": {
      "text/plain": [
       "<keras.callbacks.History at 0x1c40a4332e0>"
      ]
     },
     "execution_count": 55,
     "metadata": {},
     "output_type": "execute_result"
    }
   ],
   "source": [
    "reg.fit(train_x_set_reshaped,train_y_set,epochs=1,validation_data=(test_x_set_reshaped,test_y_set))"
   ]
  },
  {
   "cell_type": "code",
   "execution_count": 56,
   "metadata": {
    "tags": []
   },
   "outputs": [
    {
     "name": "stdout",
     "output_type": "stream",
     "text": [
      "1284/1284 [==============================] - 4s 3ms/step\n"
     ]
    }
   ],
   "source": [
    "predictions=reg.predict(final_set)"
   ]
  },
  {
   "cell_type": "code",
   "execution_count": 57,
   "metadata": {
    "tags": []
   },
   "outputs": [
    {
     "name": "stdout",
     "output_type": "stream",
     "text": [
      "[[0.1150317  0.1150327  0.11503057 ... 0.11503197 0.11503201 0.1150317 ]\n",
      " [0.17822805 0.17822751 0.17822954 ... 0.1782299  0.17822737 0.17822923]\n",
      " [0.18541415 0.18541443 0.18541403 ... 0.18541463 0.18541408 0.18541443]\n",
      " ...\n",
      " [0.14208014 0.14207989 0.14207798 ... 0.14207694 0.14208013 0.14207785]\n",
      " [0.1420783  0.14207804 0.14207612 ... 0.14207509 0.14207828 0.14207599]\n",
      " [0.13315983 0.1331605  0.13315831 ... 0.13315889 0.13316005 0.13315907]]\n"
     ]
    }
   ],
   "source": [
    "print(predictions)"
   ]
  },
  {
   "cell_type": "code",
   "execution_count": 160,
   "metadata": {
    "tags": []
   },
   "outputs": [
    {
     "data": {
      "text/html": [
       "<div>\n",
       "<style scoped>\n",
       "    .dataframe tbody tr th:only-of-type {\n",
       "        vertical-align: middle;\n",
       "    }\n",
       "\n",
       "    .dataframe tbody tr th {\n",
       "        vertical-align: top;\n",
       "    }\n",
       "\n",
       "    .dataframe thead th {\n",
       "        text-align: right;\n",
       "    }\n",
       "</style>\n",
       "<table border=\"1\" class=\"dataframe\">\n",
       "  <thead>\n",
       "    <tr style=\"text-align: right;\">\n",
       "      <th></th>\n",
       "      <th>Norm_sales</th>\n",
       "    </tr>\n",
       "  </thead>\n",
       "  <tbody>\n",
       "    <tr>\n",
       "      <th>813767</th>\n",
       "      <td>0.179129</td>\n",
       "    </tr>\n",
       "    <tr>\n",
       "      <th>813768</th>\n",
       "      <td>0.208178</td>\n",
       "    </tr>\n",
       "    <tr>\n",
       "      <th>813769</th>\n",
       "      <td>0.155327</td>\n",
       "    </tr>\n",
       "    <tr>\n",
       "      <th>813770</th>\n",
       "      <td>0.169503</td>\n",
       "    </tr>\n",
       "    <tr>\n",
       "      <th>813771</th>\n",
       "      <td>0.132560</td>\n",
       "    </tr>\n",
       "    <tr>\n",
       "      <th>...</th>\n",
       "      <td>...</td>\n",
       "    </tr>\n",
       "    <tr>\n",
       "      <th>1017204</th>\n",
       "      <td>0.000000</td>\n",
       "    </tr>\n",
       "    <tr>\n",
       "      <th>1017205</th>\n",
       "      <td>0.000000</td>\n",
       "    </tr>\n",
       "    <tr>\n",
       "      <th>1017206</th>\n",
       "      <td>0.000000</td>\n",
       "    </tr>\n",
       "    <tr>\n",
       "      <th>1017207</th>\n",
       "      <td>0.000000</td>\n",
       "    </tr>\n",
       "    <tr>\n",
       "      <th>1017208</th>\n",
       "      <td>0.000000</td>\n",
       "    </tr>\n",
       "  </tbody>\n",
       "</table>\n",
       "<p>203442 rows × 1 columns</p>\n",
       "</div>"
      ],
      "text/plain": [
       "         Norm_sales\n",
       "813767     0.179129\n",
       "813768     0.208178\n",
       "813769     0.155327\n",
       "813770     0.169503\n",
       "813771     0.132560\n",
       "...             ...\n",
       "1017204    0.000000\n",
       "1017205    0.000000\n",
       "1017206    0.000000\n",
       "1017207    0.000000\n",
       "1017208    0.000000\n",
       "\n",
       "[203442 rows x 1 columns]"
      ]
     },
     "execution_count": 160,
     "metadata": {},
     "output_type": "execute_result"
    }
   ],
   "source": [
    "test_y_set"
   ]
  },
  {
   "cell_type": "code",
   "execution_count": null,
   "metadata": {},
   "outputs": [],
   "source": []
  }
 ],
 "metadata": {
  "kernelspec": {
   "display_name": "Python 3 (ipykernel)",
   "language": "python",
   "name": "python3"
  },
  "language_info": {
   "codemirror_mode": {
    "name": "ipython",
    "version": 3
   },
   "file_extension": ".py",
   "mimetype": "text/x-python",
   "name": "python",
   "nbconvert_exporter": "python",
   "pygments_lexer": "ipython3",
   "version": "3.10.13"
  }
 },
 "nbformat": 4,
 "nbformat_minor": 4
}
